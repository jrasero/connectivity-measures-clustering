{
 "cells": [
  {
   "cell_type": "code",
   "execution_count": 3,
   "id": "76aa47ca",
   "metadata": {},
   "outputs": [],
   "source": [
    "import numpy as np\n",
    "import pandas as pd\n",
    "from scipy.io import loadmat\n",
    "from glob import glob\n",
    "from tqdm import tqdm"
   ]
  },
  {
   "cell_type": "code",
   "execution_count": 2,
   "id": "ecc0f7c9",
   "metadata": {},
   "outputs": [],
   "source": [
    "funcs_idx = {0:\"PLV\", 1:\"PLV\", 2:\"PLV\" , 3:\"PLV\", 4:\"ciPLV\", 5:\"ciPLV\", 6:\"ciPLV\", 7:\"ciPLV\"}\n",
    "measures_idx = {0:\"max after\", \n",
    "                1:\"PCA before\", \n",
    "                2:\"average after\", \n",
    "                3:\"average before\", \n",
    "                4:\"max after\", \n",
    "                5:\"PCA before\", \n",
    "                6:\"average after\", \n",
    "                7:\"average before\"}"
   ]
  },
  {
   "cell_type": "code",
   "execution_count": 4,
   "id": "492d6a9f",
   "metadata": {},
   "outputs": [
    {
     "name": "stdout",
     "output_type": "stream",
     "text": [
      "doing  band  alpha\n"
     ]
    },
    {
     "name": "stderr",
     "output_type": "stream",
     "text": [
      "100%|██████████████████████████████████████████████████████████████████████████████████████████████████████████████████████████████████████████████████████████████████████| 68/68 [00:00<00:00, 72.35it/s]\n"
     ]
    },
    {
     "name": "stdout",
     "output_type": "stream",
     "text": [
      "doing  band  beta\n"
     ]
    },
    {
     "name": "stderr",
     "output_type": "stream",
     "text": [
      "100%|██████████████████████████████████████████████████████████████████████████████████████████████████████████████████████████████████████████████████████████████████████| 68/68 [00:01<00:00, 63.91it/s]\n"
     ]
    },
    {
     "name": "stdout",
     "output_type": "stream",
     "text": [
      "doing  band  theta\n"
     ]
    },
    {
     "name": "stderr",
     "output_type": "stream",
     "text": [
      "100%|██████████████████████████████████████████████████████████████████████████████████████████████████████████████████████████████████████████████████████████████████████| 68/68 [00:00<00:00, 70.23it/s]\n"
     ]
    }
   ],
   "source": [
    "region_names = sorted([x.split(\"/\")[-1] for x in glob(\"clustering/roi_68/*\")])\n",
    "\n",
    "# alpha\n",
    "table_data=[]\n",
    "\n",
    "band=\"alpha\"\n",
    "print(\"doing  band \", band)\n",
    "for roi_name in tqdm(np.sort(region_names)):\n",
    "    R_avg = np.mean([loadmat(rec_mat)['R'] for rec_mat in glob(f\"./similarity_matrices/roi_68/{roi_name}/{band}/*\")],\n",
    "                    axis=0)\n",
    "    D_avg = 1 - R_avg\n",
    "    for ii in range(8):    \n",
    "        for jj in range(ii+1, 8):\n",
    "            row_data = [funcs_idx[ii] + \"-\" + funcs_idx[jj], \n",
    "                        band, \n",
    "                        roi_name, \n",
    "                        measures_idx[ii] + \"-\" + measures_idx[jj], \n",
    "                        D_avg[ii, jj]]\n",
    "            table_data.append(row_data)\n",
    "            \n",
    "        \n",
    "band=\"beta\"\n",
    "print(\"doing  band \", band)\n",
    "for roi_name in tqdm(np.sort(region_names)):\n",
    "    R_avg = np.mean([loadmat(rec_mat)['R'] for rec_mat in glob(f\"./similarity_matrices/roi_68/{roi_name}/{band}/*\")],\n",
    "                    axis=0)\n",
    "    D_avg = 1 - R_avg\n",
    "    for ii in range(8):    \n",
    "        for jj in range(ii+1, 8):\n",
    "            row_data = [funcs_idx[ii] + \"-\" + funcs_idx[jj], \n",
    "                        band, \n",
    "                        roi_name, \n",
    "                        measures_idx[ii] + \"-\" + measures_idx[jj], \n",
    "                        D_avg[ii, jj]\n",
    "                       ]\n",
    "            table_data.append(row_data)\n",
    "\n",
    "band=\"theta\"\n",
    "print(\"doing  band \", band)\n",
    "for roi_name in tqdm(np.sort(region_names)):\n",
    "    R_avg = np.mean([loadmat(rec_mat)['R'] for rec_mat in glob(f\"./similarity_matrices/roi_68/{roi_name}/{band}/*\")],\n",
    "                    axis=0)\n",
    "    D_avg = 1 - R_avg\n",
    "    for ii in range(8):    \n",
    "        for jj in range(ii+1, 8):\n",
    "            row_data = [funcs_idx[ii] + \"-\" + funcs_idx[jj], \n",
    "                        band, \n",
    "                        roi_name, \n",
    "                        measures_idx[ii] + \"-\" + measures_idx[jj], \n",
    "                        D_avg[ii, jj]]\n",
    "            table_data.append(row_data)"
   ]
  },
  {
   "cell_type": "code",
   "execution_count": 5,
   "id": "5b3194b7",
   "metadata": {},
   "outputs": [
    {
     "data": {
      "text/html": [
       "<div>\n",
       "<style scoped>\n",
       "    .dataframe tbody tr th:only-of-type {\n",
       "        vertical-align: middle;\n",
       "    }\n",
       "\n",
       "    .dataframe tbody tr th {\n",
       "        vertical-align: top;\n",
       "    }\n",
       "\n",
       "    .dataframe thead th {\n",
       "        text-align: right;\n",
       "    }\n",
       "</style>\n",
       "<table border=\"1\" class=\"dataframe\">\n",
       "  <thead>\n",
       "    <tr style=\"text-align: right;\">\n",
       "      <th></th>\n",
       "      <th>pair of connectivity measures</th>\n",
       "      <th>band</th>\n",
       "      <th>region</th>\n",
       "      <th>pair of strategies</th>\n",
       "      <th>distance</th>\n",
       "    </tr>\n",
       "  </thead>\n",
       "  <tbody>\n",
       "    <tr>\n",
       "      <th>0</th>\n",
       "      <td>PLV-PLV</td>\n",
       "      <td>alpha</td>\n",
       "      <td>bankssts_L</td>\n",
       "      <td>max after-PCA before</td>\n",
       "      <td>0.218874</td>\n",
       "    </tr>\n",
       "    <tr>\n",
       "      <th>1</th>\n",
       "      <td>PLV-PLV</td>\n",
       "      <td>alpha</td>\n",
       "      <td>bankssts_L</td>\n",
       "      <td>max after-average after</td>\n",
       "      <td>0.035404</td>\n",
       "    </tr>\n",
       "    <tr>\n",
       "      <th>2</th>\n",
       "      <td>PLV-PLV</td>\n",
       "      <td>alpha</td>\n",
       "      <td>bankssts_L</td>\n",
       "      <td>max after-average before</td>\n",
       "      <td>0.181230</td>\n",
       "    </tr>\n",
       "    <tr>\n",
       "      <th>3</th>\n",
       "      <td>PLV-ciPLV</td>\n",
       "      <td>alpha</td>\n",
       "      <td>bankssts_L</td>\n",
       "      <td>max after-max after</td>\n",
       "      <td>0.568526</td>\n",
       "    </tr>\n",
       "    <tr>\n",
       "      <th>4</th>\n",
       "      <td>PLV-ciPLV</td>\n",
       "      <td>alpha</td>\n",
       "      <td>bankssts_L</td>\n",
       "      <td>max after-PCA before</td>\n",
       "      <td>0.807234</td>\n",
       "    </tr>\n",
       "  </tbody>\n",
       "</table>\n",
       "</div>"
      ],
      "text/plain": [
       "  pair of connectivity measures   band      region        pair of strategies  \\\n",
       "0                       PLV-PLV  alpha  bankssts_L      max after-PCA before   \n",
       "1                       PLV-PLV  alpha  bankssts_L   max after-average after   \n",
       "2                       PLV-PLV  alpha  bankssts_L  max after-average before   \n",
       "3                     PLV-ciPLV  alpha  bankssts_L       max after-max after   \n",
       "4                     PLV-ciPLV  alpha  bankssts_L      max after-PCA before   \n",
       "\n",
       "   distance  \n",
       "0  0.218874  \n",
       "1  0.035404  \n",
       "2  0.181230  \n",
       "3  0.568526  \n",
       "4  0.807234  "
      ]
     },
     "execution_count": 5,
     "metadata": {},
     "output_type": "execute_result"
    }
   ],
   "source": [
    "table_data_df = pd.DataFrame(table_data, \n",
    "                             columns = [\"pair of connectivity measures\", \n",
    "                                        \"band\", \n",
    "                                        \"region\", \n",
    "                                        \"pair of strategies\", \n",
    "                                        \"distance\"]\n",
    "                            )\n",
    "\n",
    "table_data_df.head()"
   ]
  },
  {
   "cell_type": "code",
   "execution_count": 6,
   "id": "3ce74aa9",
   "metadata": {},
   "outputs": [],
   "source": [
    "table_data_df.to_excel(\"outputs/table_distances.xlsx\", index = False)"
   ]
  },
  {
   "cell_type": "markdown",
   "id": "117a7d88",
   "metadata": {},
   "source": [
    "Check that I did not screw it up. The distance values above should be the same ones that we used for clustering"
   ]
  },
  {
   "cell_type": "code",
   "execution_count": 8,
   "id": "ef676065",
   "metadata": {},
   "outputs": [
    {
     "name": "stderr",
     "output_type": "stream",
     "text": [
      "100%|█████████████████████████████████████████████████████████████████████████████████████████████████████████████████████████████████████████████████████████████████████| 68/68 [00:00<00:00, 385.75it/s]\n"
     ]
    }
   ],
   "source": [
    "check_equal = []\n",
    "for roi_name in tqdm(np.sort(region_names)):\n",
    "\n",
    "    cond = (table_data_df.band==\"alpha\") & (table_data_df.region==roi_name)\n",
    "    \n",
    "    check_equal.append(np.allclose(table_data_df.loc[cond,:].loc[:, \"distance\"],\n",
    "                                   squareform(loadmat(f\"clustering/roi_68/{roi_name}/alpha/hierarchical_clustering.mat\")['D'], \n",
    "                                           checks=False)))\n",
    "\n",
    "# if not equal, this should not be equal to 68\n",
    "assert sum(check_equal)==68"
   ]
  },
  {
   "cell_type": "code",
   "execution_count": 9,
   "id": "6044ca0d",
   "metadata": {},
   "outputs": [
    {
     "name": "stderr",
     "output_type": "stream",
     "text": [
      "100%|█████████████████████████████████████████████████████████████████████████████████████████████████████████████████████████████████████████████████████████████████████| 68/68 [00:00<00:00, 612.39it/s]\n"
     ]
    }
   ],
   "source": [
    "check_equal = []\n",
    "for roi_name in tqdm(np.sort(region_names)):\n",
    "\n",
    "    cond = (table_data_df.band==\"beta\") & (table_data_df.region==roi_name)\n",
    "    \n",
    "    check_equal.append(np.allclose(table_data_df.loc[cond,:].loc[:, \"distance\"],\n",
    "                                   squareform(loadmat(f\"clustering/roi_68/{roi_name}/beta/hierarchical_clustering.mat\")['D'], \n",
    "                                           checks=False)))\n",
    "# if not equal, this should not be equal to 68\n",
    "assert sum(check_equal)==68"
   ]
  },
  {
   "cell_type": "code",
   "execution_count": 10,
   "id": "1c8fa258",
   "metadata": {},
   "outputs": [
    {
     "name": "stderr",
     "output_type": "stream",
     "text": [
      "100%|█████████████████████████████████████████████████████████████████████████████████████████████████████████████████████████████████████████████████████████████████████| 68/68 [00:00<00:00, 635.02it/s]\n"
     ]
    }
   ],
   "source": [
    "check_equal = []\n",
    "for roi_name in tqdm(np.sort(region_names)):\n",
    "\n",
    "    cond = (table_data_df.band==\"theta\") & (table_data_df.region==roi_name)\n",
    "    \n",
    "    check_equal.append(np.allclose(table_data_df.loc[cond,:].loc[:, \"distance\"],\n",
    "                                   squareform(loadmat(f\"clustering/roi_68/{roi_name}/theta/hierarchical_clustering.mat\")['D'], \n",
    "                                           checks=False)))\n",
    "# if not equal, this should not be equal to 68    \n",
    "assert sum(check_equal)==68"
   ]
  }
 ],
 "metadata": {
  "kernelspec": {
   "display_name": "Python 3 (ipykernel)",
   "language": "python",
   "name": "python3"
  },
  "language_info": {
   "codemirror_mode": {
    "name": "ipython",
    "version": 3
   },
   "file_extension": ".py",
   "mimetype": "text/x-python",
   "name": "python",
   "nbconvert_exporter": "python",
   "pygments_lexer": "ipython3",
   "version": "3.8.13"
  }
 },
 "nbformat": 4,
 "nbformat_minor": 5
}
